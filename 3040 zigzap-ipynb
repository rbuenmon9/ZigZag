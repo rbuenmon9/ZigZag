#rb tested on 2023-07-29 6 am
# pivots = peak_valley_pivots(X.values, 0.2, -0.2)
pivots = peak_valley_pivots(X.values, 0.01, -0.01)
